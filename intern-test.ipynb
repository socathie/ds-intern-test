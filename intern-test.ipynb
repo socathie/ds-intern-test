{
 "cells": [
  {
   "cell_type": "markdown",
   "metadata": {},
   "source": [
    "# Demand Media Data Science Intern test.\n",
    "To begin please clone this repository and run the notebook.\n",
    "Checkout [this resource](https://try.github.io/levels/1/challenges/1) for help with git. And similarly for a rundown on [Jupyter.](https://jupyter-notebook-beginner-guide.readthedocs.io/en/latest/)"
   ]
  },
  {
   "cell_type": "markdown",
   "metadata": {},
   "source": [
    "## Data Tools"
   ]
  },
  {
   "cell_type": "markdown",
   "metadata": {},
   "source": [
    "#### Question 1: Convert CSV to JSON\n",
    "List some of the tools you would use to convert a csv file to json. Please list all the different approaches you can think of, for solving a data transformation problem like this."
   ]
  },
  {
   "cell_type": "markdown",
   "metadata": {},
   "source": [
    "##### Answer:\n",
    "The only way I know how to do such conversion is to do so in Python by following a few steps. First, get the path for both input CSV and output JSON. Then read the CSV with DictReader and \"dump\" it into the JSON file line by line."
   ]
  },
  {
   "cell_type": "markdown",
   "metadata": {},
   "source": [
    "## SQL\n",
    "Using the database schema below, answer the following questions.\n",
    "\n",
    "\n",
    "|movie   |actor |casting|\n",
    "|--------|------|-------|\n",
    "|id      |id    |movieid|\n",
    "|title   |name  |actorid|\n",
    "|yr      |      |ord    |\n",
    "|director|      |       | \n",
    "|budget  |      |       |\n",
    "|gross   |      |       |\n",
    "\n",
    "\n",
    "\n",
    "\n"
   ]
  },
  {
   "cell_type": "markdown",
   "metadata": {},
   "source": [
    "#### Question 2:\n",
    "Find the actors in the movie \"Gone with the Wind\""
   ]
  },
  {
   "cell_type": "markdown",
   "metadata": {},
   "source": [
    "##### Answer:\n",
    "(see movie.sql for table creation)\n",
    "```SQL\n",
    "SELECT A.aname\n",
    "FROM movie M, actor A, casting C\n",
    "WHERE M.mid = C.mid AND A.aid = C.aid\n",
    "AND M.mid IN (\n",
    "\tSELECT M.mid\n",
    "\tFROM movie M\n",
    "\twhere M.title = 'Gone with the Wind'\n",
    ");\n",
    "```"
   ]
  },
  {
   "cell_type": "markdown",
   "metadata": {},
   "source": [
    "#### Question 3:\n",
    "List the films together with the leading star for all 1962 films."
   ]
  },
  {
   "cell_type": "markdown",
   "metadata": {},
   "source": [
    "##### Answer:\n",
    "```SQL\n",
    "SELECT M.title, A.aname\n",
    "FROM movie M, actor A, casting C\n",
    "WHERE M.mid = C.mid AND A.aid = C.aid AND C.ord = 1 AND M.yr = 1962;\n",
    "```"
   ]
  },
  {
   "cell_type": "markdown",
   "metadata": {},
   "source": [
    "## Data Science Questions"
   ]
  },
  {
   "cell_type": "markdown",
   "metadata": {},
   "source": [
    "#### Question 4:\n",
    "Explain the curse of Dimensionality to a child?"
   ]
  },
  {
   "cell_type": "markdown",
   "metadata": {},
   "source": [
    "##### Answer:\n",
    "In everyday lives, we often only need to deal with things that are equal to or under 3 dimensions. A point is 0-dimensional; a line is 1-dimensional or 1D; a shape is 2-dimensional or 2D; and a physical object is 3-dimensional or 3D. But in data analysis, sometimes the data live in a higher dimensional space and it leads to a lot of problems.  \n",
    "  \n",
    "The first problem is that they are very hard to visualize. Since we can only see things up to 3 dimensions, when we illustrate higher dimensional data, we will have to do a projection and lose some information. Here is an analogy: if I tell you that the cross-section of an object is a circle, you will not be able to tell whether the actual object is a sphere, a cylinder, or of other shape. Similarly, if we try to plot and look at our data, we can only see a part of it.  \n",
    "  \n",
    "Another problem of high dimensionality is for each additional dimension, it takes a much longer, in fact exponential, time to compute anything about the entire dataset. For instance, let's say we start with one cookie so it is easy for us to count. If now, instead, we have a line of 10 cookies, it is still relatively easy for us to count. However, imagine if we have a tray, which is 2D, of 10<sup>2</sup> = 100 cookies or even a box, which is 3D, of 10<sup>3</sup> = 1000 cookies, the number of cookies are growing exponentially. If we were to count the cookies one by one, for each dimension we go up, it will take us 10 times as long! "
   ]
  },
  {
   "cell_type": "markdown",
   "metadata": {},
   "source": [
    "#### Question 5:\n",
    "Why is mean square error a bad measure of model performance? What would you suggest instead?"
   ]
  },
  {
   "cell_type": "markdown",
   "metadata": {},
   "source": [
    "##### Answer:\n",
    "There are two problems with mean square error, the \"mean\" part and the \"square\" part. By taking an average, the error might be hugely affected by a single outlier. Also, the distribution of the errors is lost by taking the mean. The well-known Anscombe's quartet, for instance, demonstrate that how the same model can fit on 4 different patterns of data but give us the same mean square error. By taking the square, it treats positive and negative errors the same, which is not necessarily what we want for some models that we always want to overpredict rather than underpredict (or vice versa), like risk assessment."
   ]
  },
  {
   "cell_type": "markdown",
   "metadata": {},
   "source": [
    "#### Question 6:\n",
    "Do you think 50 small decision trees are better than a large one? Why?"
   ]
  },
  {
   "cell_type": "markdown",
   "metadata": {},
   "source": [
    "##### Answer:\n",
    "It depends. If we have enough samples to make 50 small decision trees into an ensemble, that will be better than a large one because it could avoid the problem of overfitting. "
   ]
  },
  {
   "cell_type": "markdown",
   "metadata": {},
   "source": [
    "#### Question 7:\n",
    "How would you explain an A/B test to an engineer with no statistics background?"
   ]
  },
  {
   "cell_type": "markdown",
   "metadata": {},
   "source": [
    "##### Answer:\n",
    "A/B test is a popular method to compare two versions of a product (such as a webpage or an application). I will use webpage as my example and I will call the two versions Version A and Version B. For each user who visit the website, one of Version A or B will be shown to him or her at random. Afterwards, statistical analysis will be used to determine which version is better for the specific goal we are trying to achieved. For instance, let's say want to test whether the color combination of the text \"Buy now!\" and the background affects sales on an online shopping site. Two possible variations will be black text and white background (A) or white text and black background (B). After we have enough sample customers visiting each version, we can check the click-through rate of the \"Buy now!\" button or whether the sales for final to see whether one version is performing statistically significantly better than the other.  \n",
    "  \n",
    "A more common application of the A/B test is comparing a new variation against the current version and decide whether the new version is \"better\", depending on your specific goals. A/B test allows us to 1) improve our website/application to a better version if the variation is better than the current version, or 2) learn that a specific variation and the associated direction of changes will not work on our product if the variation is worse than the current version."
   ]
  },
  {
   "cell_type": "markdown",
   "metadata": {},
   "source": [
    "## Python"
   ]
  },
  {
   "cell_type": "markdown",
   "metadata": {},
   "source": [
    "#### Question 8:\n",
    "Find the mean, median and mode of the elements in the list.\n",
    "```python\n",
    "a = [10,15,3,4,67,43,12]\n",
    "```"
   ]
  },
  {
   "cell_type": "markdown",
   "metadata": {},
   "source": [
    "##### Answer (stat.py):\n",
    "```python\n",
    "def mean(a):\n",
    "    n = len(a)\n",
    "    return sum(a)/n\n",
    "print \"mean = %d\" % mean(a)\n",
    "\n",
    "def median(a):\n",
    "    a = sorted(a)\n",
    "    n = len(a)\n",
    "    if n%2 == 1:\n",
    "        return a[n//2]\n",
    "    else:\n",
    "        n = n//2\n",
    "        return '%g'%(float(a[n-1]+a[n])/2)\n",
    "print \"median = %d\" % median(a)\n",
    "\n",
    "def mode(a):\n",
    "    count = []\n",
    "    for i in range(len(a)):\n",
    "        count.append(a[i])\n",
    "    freq = max(count)\n",
    "    if freq == 1:\n",
    "        #if no element is repeated, there is no mode\n",
    "        return []\n",
    "    else:\n",
    "        return sorted([i for i in set(a) if a.count(i)==freq])\n",
    "print \"mode = %s\" % mode(a)\n",
    "```\n",
    "**Output:**\n",
    "```\n",
    "mean = 22\n",
    "median = 12\n",
    "mode = []\n",
    "```"
   ]
  },
  {
   "cell_type": "markdown",
   "metadata": {},
   "source": [
    "#### Question 9:\n",
    "What will be the output of the code below? Please explain your answer.\n",
    "```python\n",
    "def multipliers():\n",
    "  return [lambda x : i * x for i in range(4)]\n",
    "    \n",
    "print [m(2) for m in multipliers()]\n",
    "```\n",
    "How would you modify the definition of `multipliers` to produce the presumably desired behavior?"
   ]
  },
  {
   "cell_type": "markdown",
   "metadata": {},
   "source": [
    "##### Answer:\n",
    "**The output will be:**\n",
    "```\n",
    "[6, 6, 6, 6]\n",
    "```\n",
    "**Explanation:**  \n",
    "When we first called multipliers() in the for statement, the function was called and the \"for i in range(4)\" loop was run. When m(2) is called inside the list, the variable i for looked up AGAIN. Since the for loop has run already, i is at the last value, i.e. i = 3. Now, if we substitute x = 2 into the lambda function, we get that each element equals i\\*x = 3\\*2 = 6.\n",
    "  \n",
    "**Modification 1:**\n",
    "```python\n",
    "def multipliers():\n",
    "  return [lambda x, i=i : i * x for i in range(4)]\n",
    "```\n",
    "**Modification 2:**\n",
    "```python\n",
    "multipliers = lambda x: [i*x for i in range(4)]\n",
    "```\n",
    "In this case, we will simply call\n",
    "```python\n",
    "print multipliers(2)\n",
    "```\n",
    "instead.  \n",
    "  \n",
    "**Desired output:**\n",
    "```\n",
    "[0, 2, 4, 6]\n",
    "```\n",
    "which is the first 4 multiples of 2 starting from 0."
   ]
  }
 ],
 "metadata": {
  "kernelspec": {
   "display_name": "Python 2",
   "language": "python",
   "name": "python2"
  },
  "language_info": {
   "codemirror_mode": {
    "name": "ipython",
    "version": 2
   },
   "file_extension": ".py",
   "mimetype": "text/x-python",
   "name": "python",
   "nbconvert_exporter": "python",
   "pygments_lexer": "ipython2",
   "version": "2.7.12"
  }
 },
 "nbformat": 4,
 "nbformat_minor": 0
}
